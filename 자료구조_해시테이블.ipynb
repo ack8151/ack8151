{
  "nbformat": 4,
  "nbformat_minor": 0,
  "metadata": {
    "colab": {
      "name": "자료구조 해시테이블.ipynb",
      "provenance": [],
      "authorship_tag": "ABX9TyOZ2Ue0fgpk8R4Gv5qUYjiy",
      "include_colab_link": true
    },
    "kernelspec": {
      "name": "python3",
      "display_name": "Python 3"
    },
    "language_info": {
      "name": "python"
    }
  },
  "cells": [
    {
      "cell_type": "markdown",
      "metadata": {
        "id": "view-in-github",
        "colab_type": "text"
      },
      "source": [
        "<a href=\"https://colab.research.google.com/github/ack8151/ack8151/blob/main/%EC%9E%90%EB%A3%8C%EA%B5%AC%EC%A1%B0_%ED%95%B4%EC%8B%9C%ED%85%8C%EC%9D%B4%EB%B8%94.ipynb\" target=\"_parent\"><img src=\"https://colab.research.google.com/assets/colab-badge.svg\" alt=\"Open In Colab\"/></a>"
      ]
    },
    {
      "cell_type": "code",
      "source": [
        "'''\n",
        "\n",
        "#알고리즘 슈도코드, set연산\n",
        "\n",
        "\n",
        "def find_slot(key):\n",
        "\ti = f(key)\n",
        "\tstart = i\n",
        "\twhile ( H[i] is occupied ) and ( H[i].key ≠ key ) \n",
        "\t\ti = (i + 1) % m\n",
        "\t\tif(i == start) return FULL\n",
        "\treturn i\n",
        "\n",
        "def set(key, value): \n",
        "\ti = find_slot(key)\n",
        "\tif i == FULL return FULL\n",
        "\tif H[i] is occupied:  # 이미 key 값을 갖는 item이 H에 존재함 (수정)\n",
        "\t\tH[i].value = value  # value 값 update 후 리턴\n",
        "\t\treturn key\n",
        "\t\n",
        "\t# H[i]가 비어있는 경우, 즉 key 값을 갖는 item이 없다면 새로 저장함 (삽입)\n",
        "\tif the table is almost full:  # if m < 2n (여기서 n은 테이블에 저장된 값 갯수)\n",
        "\t\trebuild the table larger (usually m is doubled!) and copy items into new H\n",
        "\t\ti = find_slot(key)\n",
        "\tH[i].key = key \n",
        "\tH[i].value = value\n",
        "\treturn key'''"
      ],
      "metadata": {
        "colab": {
          "base_uri": "https://localhost:8080/",
          "height": 90
        },
        "id": "icJbr6JoxNWV",
        "outputId": "4993b821-d8a8-4f22-d589-e69e7ae2f0d0"
      },
      "execution_count": null,
      "outputs": [
        {
          "output_type": "execute_result",
          "data": {
            "text/plain": [
              "'\\n\\n#알고리즘 슈도코드\\n\\n\\ndef find_slot(key):\\n\\ti = f(key)\\n\\tstart = i\\n\\twhile ( H[i] is occupied ) and ( H[i].key ≠ key ) \\n\\t\\ti = (i + 1) % m\\n\\t\\tif(i == start) return FULL\\n\\treturn i\\n\\ndef set(key, value): \\n\\ti = find_slot(key)\\n\\tif i == FULL return FULL\\n\\tif H[i] is occupied:  # 이미 key 값을 갖는 item이 H에 존재함 (수정)\\n\\t\\tH[i].value = value  # value 값 update 후 리턴\\n\\t\\treturn key\\n\\t\\n\\t# H[i]가 비어있는 경우, 즉 key 값을 갖는 item이 없다면 새로 저장함 (삽입)\\n\\tif the table is almost full:  # if m < 2n (여기서 n은 테이블에 저장된 값 갯수)\\n\\t\\trebuild the table larger (usually m is doubled!) and copy items into new H\\n\\t\\ti = find_slot(key)\\n\\tH[i].key = key \\n\\tH[i].value = value\\n\\treturn key'"
            ],
            "application/vnd.google.colaboratory.intrinsic+json": {
              "type": "string"
            }
          },
          "metadata": {},
          "execution_count": 10
        }
      ]
    },
    {
      "cell_type": "code",
      "source": [
        "'''\n",
        "#알고리즘 슈도코드, remove연산\n",
        "\n",
        "remove(key):\n",
        "\ti = find_slot( key ) \n",
        "\tif H[i] is unoccupied  // 삭제할 아이템이 실제로 존재하지 않는 경우\n",
        "\t\treturn NOTFOUND\n",
        "\tj = i\n",
        "\twhile True: \n",
        "\t\tmark H[i] as unoccupied\n",
        "\t\twhile True:\n",
        "\t\t\tj = (j+1) % m \n",
        "\t\t\tif H[j] is unoccupied  // 자리 이동 완료!\n",
        "\t\t\t\treturn key\n",
        "\t\t\tk = f(H[j].key)\n",
        "\t\t\t# |    i..k..j |\n",
        "\t\t\t# |....j..i..k..| or |..k..j..i..|\n",
        "\t\t\tif not ( i < k <= j or j < i < k or k <= j < i): # H[j] --> H[i]\n",
        "\t\t\t\tbreak\n",
        "\t\tH[i] = H[j]\n",
        "\t\ti = j\n",
        "'''"
      ],
      "metadata": {
        "colab": {
          "base_uri": "https://localhost:8080/",
          "height": 72
        },
        "id": "TYvGqJJuzGIO",
        "outputId": "a5cc0063-9263-4f7c-ef09-9555defec8e5"
      },
      "execution_count": null,
      "outputs": [
        {
          "output_type": "execute_result",
          "data": {
            "text/plain": [
              "'\\n#알고리즘 슈도코드, remove연산\\n\\nremove(key):\\n\\ti = find_slot( key ) \\n\\tif H[i] is unoccupied  // 삭제할 아이템이 실제로 존재하지 않는 경우\\n\\t\\treturn NOTFOUND\\n\\tj = i\\n\\twhile True: \\n\\t\\tmark H[i] as unoccupied\\n\\t\\twhile True:\\n\\t\\t\\tj = (j+1) % m \\n\\t\\t\\tif H[j] is unoccupied  // 자리 이동 완료!\\n\\t\\t\\t\\treturn key\\n\\t\\t\\tk = f(H[j].key)\\n\\t\\t\\t# |    i..k..j |\\n\\t\\t\\t# |....j..i..k..| or |..k..j..i..|\\n\\t\\t\\tif not ( i < k <= j or j < i < k or k <= j < i): # H[j] --> H[i]\\n\\t\\t\\t\\tbreak\\n\\t\\tH[i] = H[j]\\n\\t\\ti = j\\n'"
            ],
            "application/vnd.google.colaboratory.intrinsic+json": {
              "type": "string"
            }
          },
          "metadata": {},
          "execution_count": 11
        }
      ]
    },
    {
      "cell_type": "code",
      "source": [
        "#알고리즘 슈도코드\n",
        "'''\n",
        "\n",
        "search연산\n",
        "\n",
        "\n",
        "def search(key):\n",
        "\ti = find_slot(key) \n",
        "\tif H[i] is occupied: # key is in table \n",
        "\t\treturn H[i].value\n",
        "\telse \t\t\t\t\t\t\t\t # key is not in table \n",
        "\t\treturn NOTFOUND\t\t # not found\n",
        "\n",
        "'''"
      ],
      "metadata": {
        "colab": {
          "base_uri": "https://localhost:8080/",
          "height": 54
        },
        "id": "wTBp8uMzzPLY",
        "outputId": "5c354e8d-0821-4f72-cf7b-58e224e864da"
      },
      "execution_count": null,
      "outputs": [
        {
          "output_type": "execute_result",
          "data": {
            "text/plain": [
              "'\\n\\nsearch연산\\n\\n\\ndef search(key):\\n\\ti = find_slot(key) \\n\\tif H[i] is occupied: # key is in table \\n\\t\\treturn H[i].value\\n\\telse \\t\\t\\t\\t\\t\\t\\t\\t # key is not in table \\n\\t\\treturn NOTFOUND\\t\\t # not found\\n\\n'"
            ],
            "application/vnd.google.colaboratory.intrinsic+json": {
              "type": "string"
            }
          },
          "metadata": {},
          "execution_count": 14
        }
      ]
    },
    {
      "cell_type": "code",
      "source": [
        "class HashChain:\n",
        "\tdef __init__(self, m):\n",
        "\t\tself.size = m\t\t# 슬롯의 갯수 m\n",
        "\t\tself.H = [None] * self.size\n",
        "\t\t\n",
        "\tdef hash_function(self, key):\n",
        "\t\treturn f(key)\t# return hash value for key\n",
        "\t\n",
        "\tdef find_slot(self, key):\n",
        "\t\t# chaining이므로 빈 슬롯을 찾을 필요없이 해시함수값을 리턴\n",
        "\t\treturn self.hash_function(key)\n",
        "\n",
        "\tdef set(self, key, value):\n",
        "\t\ti = self.find_slot(key)\n",
        "\t\tv = self.H[i].search(key)\n",
        "\t\tif v == None: # key 값을 갖는 노드가 없다면 삽입연산\n",
        "\t\t\tself.H[i].pushFront(key, value) # (key, value) 노드를 head 노드 위치에 삽입!\n",
        "\t\telse: # 기존의 key값을 갖는 노드가 있으므로 value값 수정\n",
        "\t\t\tv.value = value\n"
      ],
      "metadata": {
        "id": "GeH6mcxNy2Sz"
      },
      "execution_count": null,
      "outputs": []
    }
  ]
}