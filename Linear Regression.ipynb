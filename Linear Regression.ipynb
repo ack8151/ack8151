{
 "cells": [
  {
   "cell_type": "markdown",
   "metadata": {},
   "source": [
    "# Linear Regression - Ⅰ"
   ]
  },
  {
   "cell_type": "code",
   "execution_count": null,
   "metadata": {},
   "outputs": [],
   "source": [
    "import torch\n",
    "import torch.nn\n",
    "import numpy as np\n",
    "import matplotlib.pyplot as plt"
   ]
  },
  {
   "cell_type": "markdown",
   "metadata": {},
   "source": [
    "## [1] Data\n",
    "-X , Y 좌표 데이터를 가지고 Linear regression 모델을 만들어 본다"
   ]
  },
  {
   "cell_type": "code",
   "execution_count": null,
   "metadata": {},
   "outputs": [],
   "source": [
    "# Toy dataset, 값을 연산하는 기능이 없으므로 numpy로 바꾼 후에 진행\n",
    "x_train = np.array([[3.3], [4.4], [5.5], [6.1], [6.3], [4.8], \n",
    "                    [9.7], [6.2], [7.9], [2.7], [7.2], \n",
    "                    [10.1], [5.3], [7.7], [3.1]])\n",
    "\n",
    "y_train = np.array([[1.7], [1.9], [2.09], [2.1], [1.9], [1.3], \n",
    "                    [3.3], [2.5], [2.5], [1.1], [2.7], \n",
    "                    [3.4], [1.5], [2.4], [1.3]])\n",
    "\n",
    "#텐서화\n",
    "x_train_tensor = torch.FloatTensor(x_train)\n",
    "y_train_tensor = torch.FloatTensor(y_train)\n",
    "\n",
    "print(type(x_train_tensor))"
   ]
  },
  {
   "cell_type": "code",
   "execution_count": null,
   "metadata": {},
   "outputs": [],
   "source": [
    "# 그래프 그리기\n",
    "plt.figure()\n",
    "plt.scatter(x_train, y_train)"
   ]
  },
  {
   "cell_type": "markdown",
   "metadata": {},
   "source": [
    "## [2] Model"
   ]
  },
  {
   "cell_type": "markdown",
   "metadata": {},
   "source": [
    "$$ Wnew = Wold - \\alpha \\nabla W $$"
   ]
  },
  {
   "cell_type": "markdown",
   "metadata": {},
   "source": [
    "$$ H(x) = Wx + b $$"
   ]
  },
  {
   "cell_type": "code",
   "execution_count": null,
   "metadata": {},
   "outputs": [],
   "source": [
    "# Hyper parameters\n",
    "input_size = 1 #x_traind의 dimension, sample의 수와는 관계 없음\n",
    "output_size = 1\n",
    "num_epochs = 50\n",
    "learning_rate = 0.01 #0~1중에 가정"
   ]
  },
  {
   "cell_type": "code",
   "execution_count": null,
   "metadata": {},
   "outputs": [],
   "source": [
    "# Linear Regression Model, 내가 사용할 모델 선언\n",
    "model = torch.nn.Linear(input_size, output_size)"
   ]
  },
  {
   "cell_type": "markdown",
   "metadata": {},
   "source": [
    "$$ cost(W, b) = \\frac{1}{m} \\sum^m_{i=1} \\left( H(x^{(i)}) - y^{(i)} \\right)^2 $$"
   ]
  },
  {
   "cell_type": "code",
   "execution_count": null,
   "metadata": {},
   "outputs": [],
   "source": [
    "# Loss function, Optimizer 정의\n",
    "criterion = torch.nn.MSELoss()#손실함수에 대한 객체를 만들기, error값이 작아지는 learning mate\n",
    "optimizer = torch.optim.SGD(model.parameters(), lr= learning_rate) #weight값을 업데이트 시켜나갈 때 어떤 알고리즘이 올지 결정"
   ]
  },
  {
   "cell_type": "markdown",
   "metadata": {},
   "source": [
    "## [3] Training"
   ]
  },
  {
   "cell_type": "code",
   "execution_count": null,
   "metadata": {},
   "outputs": [],
   "source": [
    "# Train the model\n",
    "\n",
    "for epoch in range(num_epochs): #전체 데이터를 학습을 끝마쳤을 때 1epoch, epochs만큼 반복문 사용, 0~4\n",
    "    #모델링\n",
    "    optimizer.zero_grad() #grad값을 0으로 초기화\n",
    "    \n",
    "    outputs = model(x_train_tensor) #데이터 값 대입, outputs은 y값에 대한 모델=wx+b\n",
    "    \n",
    "    loss = criterion(outputs, y_train_tensor) #H(x)와 실제 데이터 y\n",
    "\n",
    "    # 학습\n",
    "    loss.backward() #weight 값의 gradient를 반환\n",
    "    optimizer.step() #Wnew가 업데이트됨\n",
    "\n",
    "    # Loss 확인하기, Loss값을 수렴할 때까지 확인\n",
    "    if (epoch+1) % 2 == 0:\n",
    "        print (f'Epoch : {epoch+1} , Loss: {loss.item():.2f}') #소수점 2자리까지 loss값 나옴,Loss값이 점점 커진다는 의미는 점점 발산한다는 의미=learning mate값을 줄여야 함,epoch값을 크게 한다."
   ]
  },
  {
   "cell_type": "code",
   "execution_count": null,
   "metadata": {},
   "outputs": [],
   "source": [
    "x_train_plot= torch.FloatTensor(x_train)# x_train이 numpy이므로\n",
    "predicted = model(x_train_plot).detach().numpy()  # torch.detach().numpy()-->numpy를 텐서로 바꿔줌\n",
    "\n",
    "plt.figure()\n",
    "plt.plot(x_train, y_train, 'ro', label='data') # 'ro' --> 빨간색, o 동그라미(circle)를 의미\n",
    "plt.plot(x_train, predicted, label='linear function')\n",
    "plt.legend(loc='upper left') # 범례 위치 설정, legend는 그래프를 나타나겠다\n",
    "plt.show()"
   ]
  },
  {
   "cell_type": "markdown",
   "metadata": {},
   "source": [
    "### Check"
   ]
  },
  {
   "cell_type": "code",
   "execution_count": null,
   "metadata": {},
   "outputs": [],
   "source": [
    "model.state_dict() #parameter값 확인"
   ]
  },
  {
   "cell_type": "code",
   "execution_count": null,
   "metadata": {},
   "outputs": [],
   "source": [
    "check_y = 0.4371*x_train -0.6305\n",
    "\n",
    "plt.figure()\n",
    "plt.plot(x_train, y_train, 'ro', label='data')\n",
    "plt.plot(x_train, check_y)\n",
    "plt.show()"
   ]
  },
  {
   "cell_type": "code",
   "execution_count": null,
   "metadata": {},
   "outputs": [],
   "source": []
  },
  {
   "cell_type": "code",
   "execution_count": null,
   "metadata": {},
   "outputs": [],
   "source": []
  }
 ],
 "metadata": {
  "kernelspec": {
   "display_name": "Python 3 (ipykernel)",
   "language": "python",
   "name": "python3"
  },
  "language_info": {
   "codemirror_mode": {
    "name": "ipython",
    "version": 3
   },
   "file_extension": ".py",
   "mimetype": "text/x-python",
   "name": "python",
   "nbconvert_exporter": "python",
   "pygments_lexer": "ipython3",
   "version": "3.10.2"
  }
 },
 "nbformat": 4,
 "nbformat_minor": 4
}
