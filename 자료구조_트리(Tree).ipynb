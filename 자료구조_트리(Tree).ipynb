{
  "nbformat": 4,
  "nbformat_minor": 0,
  "metadata": {
    "colab": {
      "name": "자료구조-트리(Tree).ipynb",
      "provenance": [],
      "collapsed_sections": [],
      "authorship_tag": "ABX9TyN4F+X8YFEMCeFilqgctch9",
      "include_colab_link": true
    },
    "kernelspec": {
      "name": "python3",
      "display_name": "Python 3"
    },
    "language_info": {
      "name": "python"
    }
  },
  "cells": [
    {
      "cell_type": "markdown",
      "metadata": {
        "id": "view-in-github",
        "colab_type": "text"
      },
      "source": [
        "<a href=\"https://colab.research.google.com/github/ack8151/ack8151/blob/main/%EC%9E%90%EB%A3%8C%EA%B5%AC%EC%A1%B0_%ED%8A%B8%EB%A6%AC(Tree).ipynb\" target=\"_parent\"><img src=\"https://colab.research.google.com/assets/colab-badge.svg\" alt=\"Open In Colab\"/></a>"
      ]
    },
    {
      "cell_type": "code",
      "execution_count": null,
      "metadata": {
        "id": "sT1hOHnZJmUw"
      },
      "outputs": [],
      "source": [
        "class Node:\n",
        "\tdef __init__(self, key, parent=None, left=None, right=None):\n",
        "\t\tself.key = key\n",
        "\t\tself.parent = parent\n",
        "\t\tself.left = left\n",
        "\t\tself.right = right\n",
        "\n",
        "\tdef __str__(self):\n",
        "\t\treturn str(self.key)\n",
        "\n",
        "class Tree:\n",
        "\tdef __init__(self):\n",
        "\t\tself.root = None\n",
        "\t\tself.size = 0\n"
      ]
    },
    {
      "cell_type": "code",
      "source": [
        "# Tree class의 method로 선언\n",
        "def preorder(self, v): # 노드 v와 자손 노드를 preorder로 방문하면서 출력\n",
        "\tif v != None:\n",
        "\t\tprint(v.key)\n",
        "\t\tself.preorder(v.left)\n",
        "\t\tself.preorder(v.right)"
      ],
      "metadata": {
        "id": "2_syvjqnJ2r4"
      },
      "execution_count": null,
      "outputs": []
    },
    {
      "cell_type": "code",
      "source": [
        "class Node:\n",
        "\tdef __init__(self, key, parent=None, left=None, right=None):\n",
        "\t\tself.key = key\n",
        "\t\tself.parent = parent\n",
        "\t\tself.left = left\n",
        "\t\tself.right = right\n",
        "\n",
        "\tdef __str__(self):\n",
        "\t\treturn str(self.key)\n",
        "\n",
        "class Tree:\n",
        "\tdef __init__(self):\n",
        "\t\tself.root = None\n",
        "\t\tself.size = 0\n",
        "\t\n",
        "\tdef preorder(self, v):\n",
        "\t\tif v:\n",
        "\t\t\tprint(v.key, end=\" - \")\n",
        "\t\t\tself.preorder(v.left)\n",
        "\t\t\tself.preorder(v.right)\n",
        "\n",
        "T = Tree()\n",
        "a, b, c, d = Node(1), Node(2), Node(3), Node(4)\n",
        "T.root = a\n",
        "a.left = b\n",
        "a.right = c\n",
        "c.left = d\n",
        "T.preorder(T.root)"
      ],
      "metadata": {
        "colab": {
          "base_uri": "https://localhost:8080/"
        },
        "id": "SsvQr0PlJ-ju",
        "outputId": "b815bf16-8366-488d-cb55-b9dc5bdbd581"
      },
      "execution_count": null,
      "outputs": [
        {
          "output_type": "stream",
          "name": "stdout",
          "text": [
            "1 - 2 - 3 - 4 - "
          ]
        }
      ]
    },
    {
      "cell_type": "code",
      "source": [
        "def find_loc(self, key): # if key is in T, return its Node\n",
        "\t# if not in T, return the parent node under where it is inserted\n",
        "\tif self.size == 0: return None\n",
        "\tp = None    # p = parent node of v\n",
        "\tv = self.root\n",
        "\twhile v:    # while v != None\n",
        "\t\tif v.key == key: return v\n",
        "\t\telse:\n",
        "\t\t\tif v.key < key:\n",
        "\t\t\t\tp = v\n",
        "\t\t\t\tv = v.right\n",
        "\t\t\telse:\n",
        "\t\t\t\tp = v\n",
        "\t\t\t\tv = v.left\n",
        "\treturn p\n",
        "\n",
        "def search(self, key):\n",
        "\tp = self.find_loc(key)\n",
        "\tif p and p.key == key:\n",
        "\t\treturn p\n",
        "\telse:\n",
        "\t\treturn None"
      ],
      "metadata": {
        "id": "YZrHrdRXKpKW"
      },
      "execution_count": null,
      "outputs": []
    },
    {
      "cell_type": "code",
      "source": [
        "def insert(self, key):\n",
        "\tv = Node(key)\n",
        "\tif self.size == 0: \n",
        "\t\tself.root = v\n",
        "\telse:\n",
        "\t\tp = self.find_loc(key)\n",
        "\t\tif p and p.key != key: # p is parent of v\n",
        "\t\t\tif p.key < key: p.right = v\n",
        "\t\t\telse: p.left = v\n",
        "\t\t\tv.parent = p\n",
        "\tself.size += 1\n",
        "\treturn v"
      ],
      "metadata": {
        "id": "iFSnb3fpLRSl"
      },
      "execution_count": null,
      "outputs": []
    },
    {
      "cell_type": "code",
      "source": [
        "def deleteByMerging(self, x):\n",
        "\t# assume that x is not None\n",
        "\ta, b, pt = x.left, x.right, x.parent\n",
        "\tif a == None: c = b\n",
        "\telse: # a != None\n",
        "\t\tc = m = a\n",
        "\t\t# find the largest leaf m in the subtree of a\n",
        "\t\twhile m.right:\n",
        "\t\t\tm = m.right\n",
        "\t\tm.right = b\n",
        "\t\tif b: b.parent = m\n",
        "\t\n",
        "\tif self.root == x: # c becomes a new root\n",
        "\t\tif c: c.parent = None\n",
        "\t\tself.root = c\n",
        "\telse:\t\t# c becomes a child of pt of x\n",
        "\t\tif pt.left == x: pt.left = c\n",
        "\t\telse: pt.right = c\n",
        "\t\tif c: c.parent = pt\n",
        "\tself.size -= 1"
      ],
      "metadata": {
        "id": "BVsKB6KGLx2R"
      },
      "execution_count": null,
      "outputs": []
    }
  ]
}