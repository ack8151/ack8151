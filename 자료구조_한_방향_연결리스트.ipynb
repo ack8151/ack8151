{
  "nbformat": 4,
  "nbformat_minor": 0,
  "metadata": {
    "colab": {
      "name": "자료구조-한 방향 연결리스트.ipynb",
      "provenance": [],
      "toc_visible": true,
      "authorship_tag": "ABX9TyPycMxKQdVSI64Xp277LI3x"
    },
    "kernelspec": {
      "name": "python3",
      "display_name": "Python 3"
    },
    "language_info": {
      "name": "python"
    }
  },
  "cells": [
    {
      "cell_type": "code",
      "source": [
        "'''class Node \n",
        "\tdef __init__(self, key, value=None):\n",
        "\t\tself.key = key      # 노드에 저장되는 key 값으로 이 값으로 노드를 구분함\n",
        "\t\tself.value = value  # 추가 정보가 있다면 value에 저장함 (optional)\n",
        "\t\tself.next = None    # 다음에 연결될 노드(의 주소 또는 reference): 초기값은 None\n",
        "\t\n",
        "\tdef __str__(self): \t\t# print함수를 이용해 출력할 때의 출력 문자열 리턴\n",
        "\t\treturn str(self.key)\n",
        "\t'''"
      ],
      "metadata": {
        "colab": {
          "base_uri": "https://localhost:8080/",
          "height": 72
        },
        "id": "Mt8qRekCLV-I",
        "outputId": "4c766bde-d95a-4b0a-b78e-eee29012b5d3"
      },
      "execution_count": 8,
      "outputs": [
        {
          "output_type": "execute_result",
          "data": {
            "text/plain": [
              "'class Node \\n\\tdef __init__(self, key, value=None):\\n\\t\\tself.key = key      # 노드에 저장되는 key 값으로 이 값으로 노드를 구분함\\n\\t\\tself.value = value  # 추가 정보가 있다면 value에 저장함 (optional)\\n\\t\\tself.next = None    # 다음에 연결될 노드(의 주소 또는 reference): 초기값은 None\\n\\t\\n\\tdef __str__(self): \\t\\t# print함수를 이용해 출력할 때의 출력 문자열 리턴\\n\\t\\treturn str(self.key)\\n\\t'"
            ],
            "application/vnd.google.colaboratory.intrinsic+json": {
              "type": "string"
            }
          },
          "metadata": {},
          "execution_count": 8
        }
      ]
    },
    {
      "cell_type": "code",
      "source": [
        "#한뱡향 연결리스트 SinglyLinkedList 클래스의 선언\n",
        "\n",
        "class SinglyLinkedList:\n",
        "\tdef __init__(self):\n",
        "\t\tself.head = None\t# head 노드를 저장함\n",
        "\t\tself.size = 0\t\t\t# 리스트의 노드 개수를 저장함\n",
        "\n",
        "\tdef __str__(self): \t# print() 출력용 문자열 리턴\n",
        "\t\ts = \"\"\n",
        "\t\tv = self.head\n",
        "\t\twhile v:\n",
        "\t\t\ts += str(v.key) + \" -> \"\n",
        "\t\t\tv = v.next\n",
        "\t\ts += \"None\"\n",
        "\t\treturn s\n",
        "\t\n",
        "\tdef __len__(self):\t\t# len(L): 리스트 L의 size 리턴\n",
        "\t\treturn self.size"
      ],
      "metadata": {
        "id": "jYNlF-UQK1lW"
      },
      "execution_count": 2,
      "outputs": []
    },
    {
      "cell_type": "code",
      "source": [
        "# class SinglyLinkedList의 메쏘드\n",
        "\tdef pushFront(self, key, value=None):\n",
        "\t\tnew_node = Node(key, value)\n",
        "\t\tnew_node.next = self.head\n",
        "\t\tself.head = new_node\t\t\t# head 노드가 바뀜\n",
        "\t\tself.size += 1"
      ],
      "metadata": {
        "colab": {
          "base_uri": "https://localhost:8080/",
          "height": 136
        },
        "id": "GPXgY21zLemU",
        "outputId": "ee5acdef-abf4-4c9e-9439-369e006bf88d"
      },
      "execution_count": 9,
      "outputs": [
        {
          "output_type": "error",
          "ename": "IndentationError",
          "evalue": "ignored",
          "traceback": [
            "\u001b[0;36m  File \u001b[0;32m\"<ipython-input-9-ddc1ef7de7a4>\"\u001b[0;36m, line \u001b[0;32m2\u001b[0m\n\u001b[0;31m    def pushFront(self, key, value=None):\u001b[0m\n\u001b[0m    ^\u001b[0m\n\u001b[0;31mIndentationError\u001b[0m\u001b[0;31m:\u001b[0m unexpected indent\n"
          ]
        }
      ]
    },
    {
      "cell_type": "code",
      "source": [
        "\t#리스트의 tail노드 다음에 삽입하기\n",
        "  \n",
        "  def pushBack(self, key, value=None):\n",
        "\t\tnew_node = Node(key, value)\n",
        "\t\tif self.size == 0:  # empty list --> new_node becomes a head!\n",
        "\t\t\tself.head = new_node\n",
        "\t\telse:\n",
        "\t\t\ttail = self.head\n",
        "\t\t\twhile tail.next != None:\t# follow links until tail\n",
        "\t\t\t\ttail = tail.next\n",
        "\t\t\ttail.next = new_node\n",
        "\t\tself.size += 1"
      ],
      "metadata": {
        "id": "wEH9eR_VMKT8"
      },
      "execution_count": 10,
      "outputs": []
    },
    {
      "cell_type": "code",
      "source": [
        "\t#리스트의 head노드 삽입\n",
        "  \n",
        "  def popFront(self):\n",
        "\t\tkey = value = None\n",
        "\t\tif len(self) > 0:\n",
        "\t\t\tkey = self.head.key\n",
        "\t\t\tvalue = self.head.value\n",
        "\t\t\tself.head = self.head.next\n",
        "\t\t\tself.size -= 1\n",
        "\t\treturn key, value"
      ],
      "metadata": {
        "id": "r0oKJzNpMPcY"
      },
      "execution_count": 11,
      "outputs": []
    },
    {
      "cell_type": "code",
      "source": [
        "# 가장 뒤의 노드 삭제하기\n",
        "\n",
        "\tdef popBack(self):\n",
        "\t\tif self.size == 0: \t# empty list (nothing to pop)\n",
        "\t\t\treturn None, None\n",
        "\t\telse:\n",
        "\t\t\t# tail 노드와 그 전 노드인 previous를 찾는다\n",
        "\t\t\tprevious, tail = None, self.head\n",
        "\t\t\twhile tail.next != None:\n",
        "\t\t\t\tprevious, tail = tail, tail.next \t# 한 노드씩 진행\n",
        "\t\t\t# 만약 리스트에 노드가 하나라면 그 노드가 head이면서 동시에 tail임\n",
        "\t\t\t# 그런 경우라면 tail을 지우면 빈 리스트가 되어 head = None으로 수정해야함!\n",
        "\t\t\tkey, value = tail.key, tail.value\n",
        "\t\t\tif self.head == tail:\t# 또는 if previous == None:\n",
        "\t\t\t\tself.head = None\n",
        "\t\t\telse:\n",
        "\t\t\t\tprevious.next = tail.next\t# previous가 새로운 tail이 됨!\n",
        "\t\t\tself.size -= 1\n",
        "\t\t\treturn key, value # key 값만 리턴해도 됨"
      ],
      "metadata": {
        "colab": {
          "base_uri": "https://localhost:8080/",
          "height": 136
        },
        "id": "sKRBdPD7MhSu",
        "outputId": "aac42468-8e48-4926-8600-a2d09cd3e9c9"
      },
      "execution_count": 12,
      "outputs": [
        {
          "output_type": "error",
          "ename": "IndentationError",
          "evalue": "ignored",
          "traceback": [
            "\u001b[0;36m  File \u001b[0;32m\"<ipython-input-12-715ea7ae6d95>\"\u001b[0;36m, line \u001b[0;32m3\u001b[0m\n\u001b[0;31m    def popBack(self):\u001b[0m\n\u001b[0m    ^\u001b[0m\n\u001b[0;31mIndentationError\u001b[0m\u001b[0;31m:\u001b[0m unexpected indent\n"
          ]
        }
      ]
    },
    {
      "cell_type": "code",
      "source": [
        "#탐색\n",
        "\n",
        "\tdef search(self, key):\n",
        "\t\tv = self.head\n",
        "\t\twhile v:\n",
        "\t\t\tif v.key == key:\n",
        "\t\t\t\treturn v\n",
        "\t\t\tv = v.next\n",
        "\t\treturn None"
      ],
      "metadata": {
        "colab": {
          "base_uri": "https://localhost:8080/",
          "height": 136
        },
        "id": "lZDNTO2xMnos",
        "outputId": "4e9ae880-71d3-4f0f-995f-c29dc4b3f67a"
      },
      "execution_count": 13,
      "outputs": [
        {
          "output_type": "error",
          "ename": "IndentationError",
          "evalue": "ignored",
          "traceback": [
            "\u001b[0;36m  File \u001b[0;32m\"<ipython-input-13-9ed36964ebbb>\"\u001b[0;36m, line \u001b[0;32m3\u001b[0m\n\u001b[0;31m    def search(self, key):\u001b[0m\n\u001b[0m    ^\u001b[0m\n\u001b[0;31mIndentationError\u001b[0m\u001b[0;31m:\u001b[0m unexpected indent\n"
          ]
        }
      ]
    },
    {
      "cell_type": "code",
      "source": [
        "#generator 사용\n",
        "\n",
        "def factor_fun(n):\t# return a list of multiples of k in [1..n]\n",
        "\tresults = [ ]\n",
        "\tfor k in range(1, n+1):\n",
        "\t\tif n % k == 0:\n",
        "\t\t\tresults.append(k)\n",
        "\treturn results\n",
        "\n",
        "def factor_gen(n):\n",
        "\tfor k in range(1, n+1):\n",
        "\t\tif n % k == 0:\n",
        "\t\t\tyield k   # k를 한 번에 한 값씩 리턴한다\n",
        "\n",
        "print(\"-----function-------\")\n",
        "for factor in factor_fun(100):\n",
        "\tprint(factor, end=' ')\n",
        "print(\"\\n-----generator------\")\n",
        "for factor in factor_gen(100):\n",
        "\tprint(factor, end=' ')"
      ],
      "metadata": {
        "colab": {
          "base_uri": "https://localhost:8080/"
        },
        "id": "7xddjpYNM1Nw",
        "outputId": "86f9e8ce-b21e-494b-babb-ab75078f4bb4"
      },
      "execution_count": 14,
      "outputs": [
        {
          "output_type": "stream",
          "name": "stdout",
          "text": [
            "-----function-------\n",
            "1 2 4 5 10 20 25 50 100 \n",
            "-----generator------\n",
            "1 2 4 5 10 20 25 50 100 "
          ]
        }
      ]
    }
  ]
}