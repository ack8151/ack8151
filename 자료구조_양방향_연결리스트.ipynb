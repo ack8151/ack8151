{
  "nbformat": 4,
  "nbformat_minor": 0,
  "metadata": {
    "colab": {
      "name": "자료구조-양방향 연결리스트.ipynb",
      "provenance": [],
      "collapsed_sections": [],
      "authorship_tag": "ABX9TyN9ebkc5xltZtfJe9rU5sG7",
      "include_colab_link": true
    },
    "kernelspec": {
      "name": "python3",
      "display_name": "Python 3"
    },
    "language_info": {
      "name": "python"
    }
  },
  "cells": [
    {
      "cell_type": "markdown",
      "metadata": {
        "id": "view-in-github",
        "colab_type": "text"
      },
      "source": [
        "<a href=\"https://colab.research.google.com/github/ack8151/ack8151/blob/main/%EC%9E%90%EB%A3%8C%EA%B5%AC%EC%A1%B0_%EC%96%91%EB%B0%A9%ED%96%A5_%EC%97%B0%EA%B2%B0%EB%A6%AC%EC%8A%A4%ED%8A%B8.ipynb\" target=\"_parent\"><img src=\"https://colab.research.google.com/assets/colab-badge.svg\" alt=\"Open In Colab\"/></a>"
      ]
    },
    {
      "cell_type": "code",
      "execution_count": null,
      "metadata": {
        "id": "MYw4D-KIlgqB"
      },
      "outputs": [],
      "source": [
        "class Node:\n",
        "\tdef __init__(self, key=None, value=None):\n",
        "\t\tself.key = key\n",
        "\t\tself.value = value\n",
        "\t\tself.prev = None\n",
        "\t\tself.next = None"
      ]
    },
    {
      "cell_type": "code",
      "source": [
        "class Node:\n",
        "\tdef __init__(self, key=None, value=None):\n",
        "\t\tself.key = key\n",
        "\t\tself.value = value\n",
        "\t\tself.prev = self\n",
        "\t\tself.next = self\n",
        "\n",
        "class DoublyLinkedList:\n",
        "\tdef __init__(self):\n",
        "\t\tself.head = Node()\t# dummy 노드로만 이루이진 빈 리스트"
      ],
      "metadata": {
        "id": "YogRMk1jmBwI"
      },
      "execution_count": null,
      "outputs": []
    },
    {
      "cell_type": "code",
      "source": [
        "#잘라내기\n",
        "\n",
        "def splice(self, a, b, x): # cut [a..b] after x\n",
        "\tif a == None or b == None or x == None: \n",
        "\t\treturn\n",
        "\t# 1. [a..b] 구간을 잘라내기 \n",
        "\ta.prev.next = b.next\n",
        "\tb.next.prev = a.prev\n",
        "\t\n",
        "\t# 2. [a..b]를 x 다음에 삽입하기\n",
        "\tx.next.prev = b\n",
        "\tb.next = x.next\n",
        "\ta.prev = x\n",
        "\tx.next = a\n",
        "  "
      ],
      "metadata": {
        "id": "RXKw28Ajmzy5"
      },
      "execution_count": null,
      "outputs": []
    },
    {
      "cell_type": "code",
      "source": [
        "#삭제연산\n",
        "'''deleteNode(): 노드 x를 제거한다(x는 headnode가 되면 안됨)\n",
        "popfront():리스트의 가장 앞 노드(head.next)의 값을 리턴하고 해당 노드를 제거'''\n",
        "\n",
        "\n",
        "\n",
        "def deleteNode(self, x): \n",
        "\t\tif x == None or x == self.head: \n",
        "\t\t\treturn\n",
        "\t\t# 노드 x를 리스트에서 분리해내기\n",
        "\t\tx.prev.next, x.next.prev = x.next, x.prev\n",
        "\n",
        "def popFront(self):\n",
        "\t\tif self.head.next == self.head: \n",
        "\t\t\treturn None\n",
        "\t\tkey = self.head.next.key\n",
        "\t\tself.deleteNode(self.head.next)\n",
        "\t\treturn key\n",
        "\t"
      ],
      "metadata": {
        "id": "xqHORvmxpFu1"
      },
      "execution_count": null,
      "outputs": []
    },
    {
      "cell_type": "code",
      "source": [
        ""
      ],
      "metadata": {
        "id": "HgYJsWCUqxvT"
      },
      "execution_count": null,
      "outputs": []
    }
  ]
}