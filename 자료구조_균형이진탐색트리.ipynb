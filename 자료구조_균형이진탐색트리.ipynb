{
  "nbformat": 4,
  "nbformat_minor": 0,
  "metadata": {
    "colab": {
      "name": "자료구조 균형이진탐색트리.ipynb",
      "provenance": [],
      "collapsed_sections": [],
      "authorship_tag": "ABX9TyPZfsrjvs4D/0j26wdD5AhQ",
      "include_colab_link": true
    },
    "kernelspec": {
      "name": "python3",
      "display_name": "Python 3"
    },
    "language_info": {
      "name": "python"
    }
  },
  "cells": [
    {
      "cell_type": "markdown",
      "metadata": {
        "id": "view-in-github",
        "colab_type": "text"
      },
      "source": [
        "<a href=\"https://colab.research.google.com/github/ack8151/ack8151/blob/main/%EC%9E%90%EB%A3%8C%EA%B5%AC%EC%A1%B0_%EA%B7%A0%ED%98%95%EC%9D%B4%EC%A7%84%ED%83%90%EC%83%89%ED%8A%B8%EB%A6%AC.ipynb\" target=\"_parent\"><img src=\"https://colab.research.google.com/assets/colab-badge.svg\" alt=\"Open In Colab\"/></a>"
      ]
    },
    {
      "cell_type": "code",
      "execution_count": null,
      "metadata": {
        "id": "in54GQ3C1Qdn"
      },
      "outputs": [],
      "source": [
        "def rotateRight(self, z):\t # rotateLeft도 유사하게 정의\n",
        "\tx = z.left\t             # assume that z != None \n",
        "\tif x == None: return     # if x == None: nothing changed\n",
        "\tb = x.right              # b == None 인 경우도 가능\n",
        "\tx.parent = z.parent\n",
        "\tif z.parent:\n",
        "\t\tif z.parent.left == z:\n",
        "\t\t\tz.parent.left = x\n",
        "\t\telse: z.parent.right = x\n",
        "\tif x: x.right = z\n",
        "\tz.parent = x \n",
        "\tz.left = b\n",
        "\tif b: b.parent = z\n",
        "\t# z == self.root라면 x가 새로운 루트가 되어야 함!\n",
        "\tif z == self.root and z != None:\n",
        "\t\tself.root = x\n",
        "\t# [주의] height가 있다면 x와 z의 height 값을 수정하는 코드 추가 필요"
      ]
    },
    {
      "cell_type": "code",
      "source": [
        ""
      ],
      "metadata": {
        "id": "h5HtabY-19y8"
      },
      "execution_count": null,
      "outputs": []
    }
  ]
}