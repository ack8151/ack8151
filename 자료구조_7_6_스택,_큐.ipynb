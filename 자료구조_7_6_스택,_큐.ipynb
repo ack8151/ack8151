{
  "nbformat": 4,
  "nbformat_minor": 0,
  "metadata": {
    "colab": {
      "name": "자료구조 7/6-스택, 큐.ipynb",
      "provenance": [],
      "collapsed_sections": [],
      "toc_visible": true,
      "authorship_tag": "ABX9TyNWHQUMoFGGrAXl2aNNGZVL"
    },
    "kernelspec": {
      "name": "python3",
      "display_name": "Python 3"
    },
    "language_info": {
      "name": "python"
    }
  },
  "cells": [
    {
      "cell_type": "code",
      "execution_count": null,
      "metadata": {
        "colab": {
          "base_uri": "https://localhost:8080/"
        },
        "id": "w0BHWub67GTy",
        "outputId": "c0ea8336-bcd2-4151-fe39-5d57c0622b63"
      },
      "outputs": [
        {
          "output_type": "stream",
          "name": "stdout",
          "text": [
            "<__main__.Point object at 0x7f5312f83e10>\n"
          ]
        }
      ],
      "source": [
        "#인류 최초 알고리즘\n",
        "\n",
        "class Point:\n",
        "\tdef __init__(self, x=0, y=0):\n",
        "\t\tself.x = x\n",
        "\t\tself.y = y\n",
        "\t\t\n",
        "p = Point(1, 2)\n",
        "print(p)\n",
        "\n"
      ]
    },
    {
      "cell_type": "code",
      "source": [
        "class Point:\n",
        "\tdef __init__(self, x=0, y=0):\n",
        "\t\tself.x = x\n",
        "\t\tself.y = y\n",
        "\t\t\n",
        "p = Point(1, 2)\n",
        "print(p)"
      ],
      "metadata": {
        "colab": {
          "base_uri": "https://localhost:8080/"
        },
        "id": "6wnFHX4e7dBS",
        "outputId": "11057c8e-5974-4855-cc2d-1908b0d75559"
      },
      "execution_count": null,
      "outputs": [
        {
          "output_type": "stream",
          "name": "stdout",
          "text": [
            "<__main__.Point object at 0x7f530d4a8550>\n"
          ]
        }
      ]
    },
    {
      "cell_type": "code",
      "source": [
        ""
      ],
      "metadata": {
        "id": "6X1GdObWGarc"
      },
      "execution_count": null,
      "outputs": []
    },
    {
      "cell_type": "markdown",
      "source": [
        "# 스택\n"
      ],
      "metadata": {
        "id": "a-0pgDjjIED_"
      }
    },
    {
      "cell_type": "code",
      "source": [
        "# stack_queue.py 에 저장\n",
        "class Stack:\n",
        "\tdef __init__(self):\n",
        "\t\tself.items = []\t# 데이터 저장을 위한 리스트 준비\n",
        "\tdef push(self, val):\n",
        "\t\tself.items.append(val)\n",
        "\tdef pop(self):\n",
        "\t\ttry:\t# pop할 아이템이 없으면\n",
        "\t\t\treturn self.items.pop()\n",
        "\t\texcept IndexError:\t# indexError 발생\n",
        "\t\t\tprint(\"Stack is empty\")\n",
        "\tdef top(self):\n",
        "\t\ttry:\n",
        "\t\t\treturn self.items[-1]\n",
        "\t\texcept IndexError:\n",
        "\t\t\tprint(\"Stack is empty\")\n",
        "\tdef __len__(self):\t# len()로 호출하면 stack의 item 수 반환\n",
        " \t\treturn len(self.items)\n",
        "\tdef isEmpty(self):\n",
        "\t\treturn self.__len__() == 0\n",
        "\n",
        "# for test\n",
        "S = Stack()\n",
        "S.push(10)\n",
        "S.push(2)\n",
        "print(S.top())\n",
        "print(S.pop())\n",
        "print(len(S))\n",
        "print(S.isEmpty())"
      ],
      "metadata": {
        "colab": {
          "base_uri": "https://localhost:8080/"
        },
        "id": "4_OnRJYZII8B",
        "outputId": "81a633a6-1c11-418e-c185-646f2f19e917"
      },
      "execution_count": 3,
      "outputs": [
        {
          "output_type": "stream",
          "name": "stdout",
          "text": [
            "2\n",
            "2\n",
            "1\n",
            "False\n"
          ]
        }
      ]
    },
    {
      "cell_type": "markdown",
      "source": [
        "# 큐\n"
      ],
      "metadata": {
        "id": "Yl98tDHhGbId"
      }
    },
    {
      "cell_type": "code",
      "source": [
        "# stack_queue.py 에 저장\n",
        "class Queue:\n",
        "\tdef __init__(self):\n",
        "\t\tself.items = []\t# 데이터 저장을 위한 리스트 준비\n",
        "\tdef enqueue(self, val):\n",
        "\t\tself.items.append(val)\n",
        "\tdef dequeue(self):\n",
        "\t\ttry:\t# pop할 아이템이 없으면\n",
        "\t\t\treturn self.items._____________ # 어떤 함수를 호출해야 할까?\n",
        "\t\texcept IndexError:\t# indexError 발생\n",
        "\t\t\tprint(\"Queue is empty\")\n",
        "\tdef front(self):\n",
        "\t\ttry:\n",
        "\t\t\treturn self.items[______]  # 어떤 값이 와야할까?\n",
        "\t\texcept IndexError:\n",
        "\t\t\tprint(\"Queue is empty\")\n",
        "\tdef __len__(self):\t# len()로 호출하면 stack의 item 수 반환\n",
        " \t\treturn len(self.items)\n",
        "\tdef isEmpty(self):\n",
        "\t\treturn len(self)"
      ],
      "metadata": {
        "id": "C9ThyDFIGei1"
      },
      "execution_count": 1,
      "outputs": []
    },
    {
      "cell_type": "code",
      "source": [
        "# stack_queue.py 에 저장\n",
        "class Queue:\n",
        "\tdef __init__(self):\n",
        "\t\tself.items = []\t\t# 데이터 저장을 위한 리스트 준비\n",
        "\t\tself.front_index = 0\t# 다음 dequeue될 값의 인덱스 저장\n",
        "\t\t\n",
        "\tdef enqueue(self, val):\n",
        "\t\tself.items.append(val)\n",
        "\t\t\n",
        "\tdef dequeue(self):\n",
        "\t\tif len(self.items) == 0 or self.front_index == len(self.items):\n",
        "\t\t\tprint(\"Queue is empty\")\n",
        "\t\telse:\n",
        "\t\t\tx = self.items[self.front_index]\n",
        "\t\t\tself.front_index += 1\n",
        "\t\t\treturn x\n",
        "\n",
        "\tdef front(self):\n",
        "\t\tif len(self.items) == 0 or self.front_index == len(self.items):\n",
        "\t\t\tprint(\"Queue is empty\")\n",
        "\t\telse:\n",
        "\t\t\treturn self.items[self.front_index]\n",
        "\n",
        "\tdef __len__(self):\t# len()로 호출하면 stack의 item 수 반환\n",
        " \t\treturn len(self.items)-self.front_index # why?\n",
        "\t\n",
        "\tdef isEmpty(self):\n",
        "\t\treturn len(self)\n",
        "\t\n",
        "Q = Queue()\n",
        "Q.enqueue(10)\n",
        "Q.enqueue(4)\n",
        "print(Q.dequeue())\n",
        "print(Q.front())\n",
        "print(Q.dequeue())\n",
        "print(Q.front())"
      ],
      "metadata": {
        "colab": {
          "base_uri": "https://localhost:8080/"
        },
        "id": "hcd5CxcgGueM",
        "outputId": "fa97e16f-8cd8-42cf-8a0b-1ec5a6b0a7c9"
      },
      "execution_count": 2,
      "outputs": [
        {
          "output_type": "stream",
          "name": "stdout",
          "text": [
            "10\n",
            "4\n",
            "4\n",
            "Queue is empty\n",
            "None\n"
          ]
        }
      ]
    },
    {
      "cell_type": "markdown",
      "source": [
        "# 디큐"
      ],
      "metadata": {
        "id": "NBmQX5q7HSn0"
      }
    }
  ]
}