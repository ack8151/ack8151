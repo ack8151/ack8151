{
  "nbformat": 4,
  "nbformat_minor": 0,
  "metadata": {
    "colab": {
      "name": "힙(heap)과 힙정렬(heap sort).ipynb",
      "provenance": [],
      "authorship_tag": "ABX9TyOSfSEIZBmJpAO+MGCx3kQA",
      "include_colab_link": true
    },
    "kernelspec": {
      "name": "python3",
      "display_name": "Python 3"
    },
    "language_info": {
      "name": "python"
    }
  },
  "cells": [
    {
      "cell_type": "markdown",
      "metadata": {
        "id": "view-in-github",
        "colab_type": "text"
      },
      "source": [
        "<a href=\"https://colab.research.google.com/github/ack8151/ack8151/blob/main/%ED%9E%99(heap)%EA%B3%BC_%ED%9E%99%EC%A0%95%EB%A0%AC(heap_sort).ipynb\" target=\"_parent\"><img src=\"https://colab.research.google.com/assets/colab-badge.svg\" alt=\"Open In Colab\"/></a>"
      ]
    },
    {
      "cell_type": "code",
      "execution_count": 4,
      "metadata": {
        "id": "9Nry888uFMI9"
      },
      "outputs": [],
      "source": [
        "def heapify_down(self, k, n): \n",
        "# n = 힙의 전체 노드수 [heap_sort를 위해 필요함]\n",
        "# A[k]가 힙 성질을 위배한다면, 밑으로 \n",
        "# 내려가면서 힙성질을 만족하는 위치를 찾는다\n",
        "  while 2*k+1< n:           \n",
        "    L, R = 2*k + 1, 2*k + 2\t # [❓] L, R은 어떤 값?\n",
        "    if L < n and self.A[L] > self.A[k]: \n",
        "      m = L\n",
        "    else: \n",
        "      m = k\n",
        "    if R < n and self.A[R] > self.A[m]: \n",
        "      m = R # m = A[k], A[L], A[R] 중 최대값의 인덱스\n",
        "    if m != k:\t# A[k]가 최대값이 아니라면 힙 성질 위배\n",
        "      self.A[k], self.A[m] = self.A[m], self.A[k]\n",
        "      k = m\n",
        "    else: break\t# 왜 break할까?\n",
        "\n",
        "def make_heap(self):\n",
        "\tn = len(self.A)\n",
        "\tfor k in range(n-1, -1, -1): # A[n-1] → ... → A[0]\n",
        "\t\tself.heapify_down(k, n)"
      ]
    },
    {
      "cell_type": "code",
      "source": [
        "def heap_sort(self):\n",
        "\t\tn = len(self.A)\t\n",
        "\t\tfor k in range(len(self.A)-1, -1, -1):\n",
        "\t\t\tself.A[0],self.A[k] = self.A[k],self.A[0]\n",
        "\t\t\tn = n - 1\t# A[n-1]은 정렬되었으므로\n",
        "\t\t\tself.heapify_down(0, n)"
      ],
      "metadata": {
        "id": "4FnDYYOaHI0J"
      },
      "execution_count": 5,
      "outputs": []
    },
    {
      "cell_type": "code",
      "source": [
        "def heapify_up(self, k):\t# 올라가면서 A[k]를 재베치\n",
        "\twhile k > 0 and self.A[(k-1)//2] < self.A[k] :\n",
        "\t\tself.A[k], self.A[(k-1)//2] = self.A[(k-1)//2], self.A[k]\n",
        "\t\tk = (k-1)//2\n",
        "\n",
        "def insert(self, key):\n",
        "\tself.A.append(key)\n",
        "\tself.heapify_up(len(self.A)-1)"
      ],
      "metadata": {
        "id": "K3dCUnoKHaQn"
      },
      "execution_count": 6,
      "outputs": []
    },
    {
      "cell_type": "code",
      "source": [
        "def delete_max(self):\n",
        "\tif len(self.A) == 0: return None\n",
        "\tkey = self.A[0]\n",
        "\tself.A[0], self.A[len(self.A)-1] = self.A[len(self.A)-1], self.A[0]\n",
        "\tself.A.pop()\t# 실제로 리스트에서 delete!\n",
        "\theapify_down(0, len(self.A)) # len(self.A) = n-1\n",
        "\treturn key"
      ],
      "metadata": {
        "id": "G85ViLCOH4A2"
      },
      "execution_count": 7,
      "outputs": []
    },
    {
      "cell_type": "code",
      "source": [
        ""
      ],
      "metadata": {
        "id": "Awm6LOIZH5dq"
      },
      "execution_count": null,
      "outputs": []
    }
  ]
}